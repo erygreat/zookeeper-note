{
 "cells": [
  {
   "cell_type": "markdown",
   "metadata": {},
   "source": [
    "启动Zookeeper之后，可以使用一系列四字母命令可以查看集群状态，可以使用下面方式运行：\n",
    "```\n",
    "$ echo ruok | nc tiny01 2181\n",
    "```\n",
    "\n",
    "四字命令如下：\n",
    "\n",
    "|类型|命令|描述|\n",
    "|---|---|---|\n",
    "|服务器状态|ruok|如果服务器状态正常，则输出imok|\n",
    "|服务器状态|conf|输出服务器配置信息|\n",
    "|服务器状态|envi|输出服务器环境|\n",
    "|服务器状态|srvr|输出服务器统计信息|\n",
    "|服务器状态|stat|输出服务器服务器统计信息和已连接客户端|\n",
    "|服务器状态|srst|重置服务器统计信息|\n",
    "|服务器状态|isro|显示服务器是否处于只读模式|\n",
    "|客户端连接|dump|列出所有会话和znode|\n",
    "|客户端连接|cons|罗列出服务器客户端的连接统计信息|\n",
    "|客户端连接|crst|重置连接统计信息|\n",
    "|观察者|wchs|列出服务器上所有观察的摘要信息|\n",
    "|观察者|wchc|列出服务器上所有的观察者|\n",
    "|观察者|wchp|按znode路径列出服务器上所有的观察|\n",
    "|监控|mntr|按Java属性格式列出服务器的统计信息|"
   ]
  }
 ],
 "metadata": {
  "kernelspec": {
   "display_name": "Python 3",
   "language": "python",
   "name": "python3"
  },
  "language_info": {
   "codemirror_mode": {
    "name": "ipython",
    "version": 3
   },
   "file_extension": ".py",
   "mimetype": "text/x-python",
   "name": "python",
   "nbconvert_exporter": "python",
   "pygments_lexer": "ipython3",
   "version": "3.7.1"
  }
 },
 "nbformat": 4,
 "nbformat_minor": 2
}
